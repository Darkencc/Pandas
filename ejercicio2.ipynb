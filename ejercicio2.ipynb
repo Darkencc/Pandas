{
  "cells": [
    {
      "cell_type": "markdown",
      "metadata": {
        "id": "3aL0NETW5UsT"
      },
      "source": [
        "# Ejercicio \n",
        "\n",
        "Escribir una función que reciba una diccionario con las notas de los alumnos en curso en un examen y devuelva una serie con la nota mínima, la máxima, media y la desviación típica."
      ]
    },
    {
      "cell_type": "markdown",
      "metadata": {
        "id": "_Wu_lTgf5Usc"
      },
      "source": [
        "# Solución 1"
      ]
    },
    {
      "cell_type": "code",
      "execution_count": null,
      "metadata": {
        "id": "eZFKN_ci5Usd",
        "outputId": "b02a6874-691a-4497-90fc-a92fe7017218"
      },
      "outputs": [
        {
          "output_type": "stream",
          "name": "stdout",
          "text": "Min                  4.000000\nMax                  9.000000\nMedia                6.600000\nDesviación típica    2.162175\ndtype: float64\n"
        }
      ],
      "source": [
        "import pandas as pd\n",
        "\n",
        "def estadistica_notas(notas):\n",
        "    notas = pd.Series(notas)\n",
        "    estadisticos = pd.Series([notas.min(), notas.max(), notas.mean(), notas.std()], index=['Min', 'Max', 'Media', 'Desviación típica'])\n",
        "    return estadisticos\n",
        "\n",
        "notas = {'Juan':9, 'María':6.5, 'Pedro':4, 'Carmen': 8.5, 'Luis': 5}\n",
        "print(estadistica_notas(notas))"
      ]
    },
    {
      "cell_type": "markdown",
      "metadata": {
        "id": "EzmvVaYn5Usi"
      },
      "source": [
        "# Solución 2"
      ]
    },
    {
      "cell_type": "code",
      "execution_count": null,
      "metadata": {
        "id": "BS-6CgI-5Usj",
        "outputId": "5070a3c1-04b1-4a92-b03d-93c3bab52a34"
      },
      "outputs": [
        {
          "output_type": "stream",
          "name": "stdout",
          "text": "count    5.000000\nmean     6.600000\nstd      2.162175\nmin      4.000000\n25%      5.000000\n50%      6.500000\n75%      8.500000\nmax      9.000000\ndtype: float64\n"
        }
      ],
      "source": [
        "import pandas as pd\n",
        "\n",
        "def estadistica_notas(notas):\n",
        "    notas = pd.Series(notas)\n",
        "    return notas.describe()\n",
        "\n",
        "notas = {'Juan':9, 'María':6.5, 'Pedro':4, 'Carmen': 8.5, 'Luis': 5}\n",
        "print(estadistica_notas(notas))\n",
        "\n"
      ]
    },
    {
      "cell_type": "code",
      "execution_count": null,
      "metadata": {
        "id": "tpEpBpPC5Usl"
      },
      "outputs": [],
      "source": [
        ""
      ]
    }
  ],
  "metadata": {
    "kernelspec": {
      "display_name": "Python 3",
      "language": "python",
      "name": "python3"
    },
    "language_info": {
      "codemirror_mode": {
        "name": "ipython",
        "version": 3
      },
      "file_extension": ".py",
      "mimetype": "text/x-python",
      "name": "python",
      "nbconvert_exporter": "python",
      "pygments_lexer": "ipython3",
      "version": "3.7.6-final"
    },
    "colab": {
      "name": "ejercicio2.ipynb",
      "provenance": []
    }
  },
  "nbformat": 4,
  "nbformat_minor": 0
}